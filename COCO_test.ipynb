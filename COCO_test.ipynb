{
 "cells": [
  {
   "cell_type": "code",
   "execution_count": 1,
   "id": "initial_id",
   "metadata": {
    "collapsed": true,
    "ExecuteTime": {
     "end_time": "2023-11-04T21:19:43.313129109Z",
     "start_time": "2023-11-04T21:19:26.651533102Z"
    }
   },
   "outputs": [
    {
     "name": "stdout",
     "output_type": "stream",
     "text": [
      "loading annotations into memory...\n",
      "Done (t=15.02s)\n",
      "creating index...\n",
      "index created!\n"
     ]
    }
   ],
   "source": [
    "from pycocotools.coco import COCO\n",
    "\n",
    "annotation_file = 'annotations/instances_train2017.json'\n",
    "coco=COCO(annotation_file)"
   ]
  },
  {
   "cell_type": "code",
   "execution_count": 2,
   "outputs": [
    {
     "name": "stdout",
     "output_type": "stream",
     "text": [
      "loading annotations into memory...\n",
      "Done (t=1.01s)\n",
      "creating index...\n",
      "index created!\n"
     ]
    }
   ],
   "source": [
    "captions_annotations_file = 'annotations/captions_train2017.json'\n",
    "coco_caps = COCO(captions_annotations_file)"
   ],
   "metadata": {
    "collapsed": false,
    "ExecuteTime": {
     "end_time": "2023-11-04T21:19:45.973703192Z",
     "start_time": "2023-11-04T21:19:43.307417690Z"
    }
   },
   "id": "6f7316f8a2fe26e"
  },
  {
   "cell_type": "code",
   "execution_count": 3,
   "outputs": [
    {
     "name": "stdout",
     "output_type": "stream",
     "text": [
      "[122610, 132777, 176913, 177894, 190851]\n"
     ]
    }
   ],
   "source": [
    "imgId = 215677\n",
    "annIds = coco_caps.getAnnIds(imgIds=imgId)\n",
    "print(annIds)"
   ],
   "metadata": {
    "collapsed": false,
    "ExecuteTime": {
     "end_time": "2023-11-04T21:19:57.345355132Z",
     "start_time": "2023-11-04T21:19:57.281095027Z"
    }
   },
   "id": "856e475077cd5345"
  },
  {
   "cell_type": "code",
   "execution_count": 4,
   "outputs": [
    {
     "name": "stdout",
     "output_type": "stream",
     "text": [
      "[{'image_id': 215677, 'id': 122610, 'caption': 'A man holding a frisbee while standing on a beach.'}, {'image_id': 215677, 'id': 132777, 'caption': 'A man passing a frisbee underneath his leg'}, {'image_id': 215677, 'id': 176913, 'caption': 'A person passing a frisbee between their legs.'}, {'image_id': 215677, 'id': 177894, 'caption': 'A man throws a Frisbee under his leg.'}, {'image_id': 215677, 'id': 190851, 'caption': 'a close up of a person playing with a frisbee'}]\n"
     ]
    }
   ],
   "source": [
    "annotations = coco_caps.loadAnns(annIds)\n",
    "print(annotations)"
   ],
   "metadata": {
    "collapsed": false,
    "ExecuteTime": {
     "end_time": "2023-11-04T21:20:00.409365412Z",
     "start_time": "2023-11-04T21:20:00.359796819Z"
    }
   },
   "id": "17a37bf1dae5f409"
  },
  {
   "cell_type": "code",
   "execution_count": 5,
   "outputs": [
    {
     "name": "stdout",
     "output_type": "stream",
     "text": [
      "A man holding a frisbee while standing on a beach.\n",
      "A man passing a frisbee underneath his leg\n",
      "A person passing a frisbee between their legs.\n",
      "A man throws a Frisbee under his leg.\n",
      "a close up of a person playing with a frisbee\n"
     ]
    }
   ],
   "source": [
    "coco_caps.showAnns(annotations)"
   ],
   "metadata": {
    "collapsed": false,
    "ExecuteTime": {
     "end_time": "2023-11-04T21:20:16.279944850Z",
     "start_time": "2023-11-04T21:20:16.237245354Z"
    }
   },
   "id": "d00ab6b29bc22b1d"
  },
  {
   "cell_type": "code",
   "execution_count": 9,
   "outputs": [
    {
     "name": "stdout",
     "output_type": "stream",
     "text": [
      "[511145, 601789, 2155493]\n",
      "[{'segmentation': [[129.7, 301.54, 125.26, 271.15, 117.84, 255.58, 131.19, 215.55, 123.77, 205.17, 120.81, 203.69, 118.58, 204.43, 105.24, 206.66, 98.57, 197.76, 91.9, 201.47, 94.86, 188.86, 108.21, 165.14, 130.44, 156.25, 150.46, 159.95, 151.2, 166.63, 150.46, 175.52, 151.2, 184.42, 155.65, 184.42, 171.96, 169.59, 203.83, 177.74, 235.71, 181.45, 269.81, 180.71, 280.19, 178.49, 294.27, 174.04, 289.08, 179.23, 297.98, 188.86, 300.94, 194.79, 299.46, 199.98, 289.82, 200.72, 275.74, 195.54, 269.81, 192.57, 226.81, 200.72, 203.83, 205.17, 238.67, 242.24, 255.72, 268.18, 253.5, 297.83, 222.37, 324.52, 214.95, 343.8, 207.54, 364.55, 202.35, 372.71, 202.35, 372.71, 194.94, 393.46, 214.21, 426.08, 235.71, 466.11, 239.42, 484.64, 232.74, 491.31, 180.11, 492.05, 182.34, 480.19, 209.76, 464.63, 203.09, 446.09, 174.18, 418.67, 174.18, 415.7, 158.61, 360.1, 142.31, 353.43, 122.29, 338.61, 115.62, 325.26, 112.65, 313.4, 123.03, 308.21, 139.34, 316.37, 148.98, 314.88, 146.01, 297.83]], 'area': 26615.497699999996, 'iscrowd': 0, 'image_id': 215677, 'bbox': [91.9, 156.25, 209.04, 335.8], 'category_id': 1, 'id': 511145}, {'segmentation': [[171.49, 349.44, 193.17, 360.28, 202.12, 379.6, 194.11, 397.98, 177.62, 405.99, 158.77, 405.05, 144.16, 398.93, 133.79, 386.2, 132.38, 370.65, 137.09, 362.17, 140.86, 360.75, 142.27, 358.4, 158.3, 360.75, 164.42, 355.57]], 'area': 2816.5841000000014, 'iscrowd': 0, 'image_id': 215677, 'bbox': [132.38, 349.44, 69.74, 56.55], 'category_id': 34, 'id': 601789}, {'segmentation': [[310.99, 339.01, 317.92, 340.78, 321.69, 333.48, 320.68, 325.42, 315.65, 325.17, 311.88, 336.87]], 'area': 108.76209999999992, 'iscrowd': 0, 'image_id': 215677, 'bbox': [310.99, 325.17, 10.7, 15.61], 'category_id': 1, 'id': 2155493}]\n"
     ]
    }
   ],
   "source": [
    "annIds = coco.getAnnIds(imgIds=[imgId])\n",
    "print(annIds)\n",
    "anns = coco.loadAnns(annIds)\n",
    "print(anns)"
   ],
   "metadata": {
    "collapsed": false,
    "ExecuteTime": {
     "end_time": "2023-11-04T21:20:42.924530007Z",
     "start_time": "2023-11-04T21:20:42.878598544Z"
    }
   },
   "id": "dc3f9f485f33ed84"
  },
  {
   "cell_type": "code",
   "execution_count": 10,
   "outputs": [
    {
     "name": "stdout",
     "output_type": "stream",
     "text": [
      "[{'supercategory': 'person', 'id': 1, 'name': 'person'}, {'supercategory': 'vehicle', 'id': 2, 'name': 'bicycle'}, {'supercategory': 'vehicle', 'id': 3, 'name': 'car'}, {'supercategory': 'vehicle', 'id': 4, 'name': 'motorcycle'}, {'supercategory': 'vehicle', 'id': 5, 'name': 'airplane'}, {'supercategory': 'vehicle', 'id': 6, 'name': 'bus'}, {'supercategory': 'vehicle', 'id': 7, 'name': 'train'}, {'supercategory': 'vehicle', 'id': 8, 'name': 'truck'}, {'supercategory': 'vehicle', 'id': 9, 'name': 'boat'}, {'supercategory': 'outdoor', 'id': 10, 'name': 'traffic light'}, {'supercategory': 'outdoor', 'id': 11, 'name': 'fire hydrant'}, {'supercategory': 'outdoor', 'id': 13, 'name': 'stop sign'}, {'supercategory': 'outdoor', 'id': 14, 'name': 'parking meter'}, {'supercategory': 'outdoor', 'id': 15, 'name': 'bench'}, {'supercategory': 'animal', 'id': 16, 'name': 'bird'}, {'supercategory': 'animal', 'id': 17, 'name': 'cat'}, {'supercategory': 'animal', 'id': 18, 'name': 'dog'}, {'supercategory': 'animal', 'id': 19, 'name': 'horse'}, {'supercategory': 'animal', 'id': 20, 'name': 'sheep'}, {'supercategory': 'animal', 'id': 21, 'name': 'cow'}, {'supercategory': 'animal', 'id': 22, 'name': 'elephant'}, {'supercategory': 'animal', 'id': 23, 'name': 'bear'}, {'supercategory': 'animal', 'id': 24, 'name': 'zebra'}, {'supercategory': 'animal', 'id': 25, 'name': 'giraffe'}, {'supercategory': 'accessory', 'id': 27, 'name': 'backpack'}, {'supercategory': 'accessory', 'id': 28, 'name': 'umbrella'}, {'supercategory': 'accessory', 'id': 31, 'name': 'handbag'}, {'supercategory': 'accessory', 'id': 32, 'name': 'tie'}, {'supercategory': 'accessory', 'id': 33, 'name': 'suitcase'}, {'supercategory': 'sports', 'id': 34, 'name': 'frisbee'}, {'supercategory': 'sports', 'id': 35, 'name': 'skis'}, {'supercategory': 'sports', 'id': 36, 'name': 'snowboard'}, {'supercategory': 'sports', 'id': 37, 'name': 'sports ball'}, {'supercategory': 'sports', 'id': 38, 'name': 'kite'}, {'supercategory': 'sports', 'id': 39, 'name': 'baseball bat'}, {'supercategory': 'sports', 'id': 40, 'name': 'baseball glove'}, {'supercategory': 'sports', 'id': 41, 'name': 'skateboard'}, {'supercategory': 'sports', 'id': 42, 'name': 'surfboard'}, {'supercategory': 'sports', 'id': 43, 'name': 'tennis racket'}, {'supercategory': 'kitchen', 'id': 44, 'name': 'bottle'}, {'supercategory': 'kitchen', 'id': 46, 'name': 'wine glass'}, {'supercategory': 'kitchen', 'id': 47, 'name': 'cup'}, {'supercategory': 'kitchen', 'id': 48, 'name': 'fork'}, {'supercategory': 'kitchen', 'id': 49, 'name': 'knife'}, {'supercategory': 'kitchen', 'id': 50, 'name': 'spoon'}, {'supercategory': 'kitchen', 'id': 51, 'name': 'bowl'}, {'supercategory': 'food', 'id': 52, 'name': 'banana'}, {'supercategory': 'food', 'id': 53, 'name': 'apple'}, {'supercategory': 'food', 'id': 54, 'name': 'sandwich'}, {'supercategory': 'food', 'id': 55, 'name': 'orange'}, {'supercategory': 'food', 'id': 56, 'name': 'broccoli'}, {'supercategory': 'food', 'id': 57, 'name': 'carrot'}, {'supercategory': 'food', 'id': 58, 'name': 'hot dog'}, {'supercategory': 'food', 'id': 59, 'name': 'pizza'}, {'supercategory': 'food', 'id': 60, 'name': 'donut'}, {'supercategory': 'food', 'id': 61, 'name': 'cake'}, {'supercategory': 'furniture', 'id': 62, 'name': 'chair'}, {'supercategory': 'furniture', 'id': 63, 'name': 'couch'}, {'supercategory': 'furniture', 'id': 64, 'name': 'potted plant'}, {'supercategory': 'furniture', 'id': 65, 'name': 'bed'}, {'supercategory': 'furniture', 'id': 67, 'name': 'dining table'}, {'supercategory': 'furniture', 'id': 70, 'name': 'toilet'}, {'supercategory': 'electronic', 'id': 72, 'name': 'tv'}, {'supercategory': 'electronic', 'id': 73, 'name': 'laptop'}, {'supercategory': 'electronic', 'id': 74, 'name': 'mouse'}, {'supercategory': 'electronic', 'id': 75, 'name': 'remote'}, {'supercategory': 'electronic', 'id': 76, 'name': 'keyboard'}, {'supercategory': 'electronic', 'id': 77, 'name': 'cell phone'}, {'supercategory': 'appliance', 'id': 78, 'name': 'microwave'}, {'supercategory': 'appliance', 'id': 79, 'name': 'oven'}, {'supercategory': 'appliance', 'id': 80, 'name': 'toaster'}, {'supercategory': 'appliance', 'id': 81, 'name': 'sink'}, {'supercategory': 'appliance', 'id': 82, 'name': 'refrigerator'}, {'supercategory': 'indoor', 'id': 84, 'name': 'book'}, {'supercategory': 'indoor', 'id': 85, 'name': 'clock'}, {'supercategory': 'indoor', 'id': 86, 'name': 'vase'}, {'supercategory': 'indoor', 'id': 87, 'name': 'scissors'}, {'supercategory': 'indoor', 'id': 88, 'name': 'teddy bear'}, {'supercategory': 'indoor', 'id': 89, 'name': 'hair drier'}, {'supercategory': 'indoor', 'id': 90, 'name': 'toothbrush'}]\n"
     ]
    },
    {
     "data": {
      "text/plain": "{1: 'person',\n 2: 'bicycle',\n 3: 'car',\n 4: 'motorcycle',\n 5: 'airplane',\n 6: 'bus',\n 7: 'train',\n 8: 'truck',\n 9: 'boat',\n 10: 'traffic light',\n 11: 'fire hydrant',\n 13: 'stop sign',\n 14: 'parking meter',\n 15: 'bench',\n 16: 'bird',\n 17: 'cat',\n 18: 'dog',\n 19: 'horse',\n 20: 'sheep',\n 21: 'cow',\n 22: 'elephant',\n 23: 'bear',\n 24: 'zebra',\n 25: 'giraffe',\n 27: 'backpack',\n 28: 'umbrella',\n 31: 'handbag',\n 32: 'tie',\n 33: 'suitcase',\n 34: 'frisbee',\n 35: 'skis',\n 36: 'snowboard',\n 37: 'sports ball',\n 38: 'kite',\n 39: 'baseball bat',\n 40: 'baseball glove',\n 41: 'skateboard',\n 42: 'surfboard',\n 43: 'tennis racket',\n 44: 'bottle',\n 46: 'wine glass',\n 47: 'cup',\n 48: 'fork',\n 49: 'knife',\n 50: 'spoon',\n 51: 'bowl',\n 52: 'banana',\n 53: 'apple',\n 54: 'sandwich',\n 55: 'orange',\n 56: 'broccoli',\n 57: 'carrot',\n 58: 'hot dog',\n 59: 'pizza',\n 60: 'donut',\n 61: 'cake',\n 62: 'chair',\n 63: 'couch',\n 64: 'potted plant',\n 65: 'bed',\n 67: 'dining table',\n 70: 'toilet',\n 72: 'tv',\n 73: 'laptop',\n 74: 'mouse',\n 75: 'remote',\n 76: 'keyboard',\n 77: 'cell phone',\n 78: 'microwave',\n 79: 'oven',\n 80: 'toaster',\n 81: 'sink',\n 82: 'refrigerator',\n 84: 'book',\n 85: 'clock',\n 86: 'vase',\n 87: 'scissors',\n 88: 'teddy bear',\n 89: 'hair drier',\n 90: 'toothbrush'}"
     },
     "execution_count": 10,
     "metadata": {},
     "output_type": "execute_result"
    }
   ],
   "source": [
    "cats = coco.loadCats(coco.getCatIds())\n",
    "print(cats)\n",
    "\n",
    "cat_name_dict2 = dict((cat['id'],cat['name']) for cat in cats)\n",
    "cat_name_dict = {cat['id']:cat['name'] for cat in cats}\n",
    "\n",
    "cat_name_dict\n",
    "\n"
   ],
   "metadata": {
    "collapsed": false,
    "ExecuteTime": {
     "end_time": "2023-11-04T21:20:48.845298104Z",
     "start_time": "2023-11-04T21:20:48.798834698Z"
    }
   },
   "id": "c03d5bb6a35dbc9f"
  },
  {
   "cell_type": "code",
   "execution_count": 11,
   "outputs": [
    {
     "name": "stdout",
     "output_type": "stream",
     "text": [
      "[{'license': 2, 'file_name': '000000215677.jpg', 'coco_url': 'http://images.cocodataset.org/train2017/000000215677.jpg', 'height': 500, 'width': 333, 'date_captured': '2013-11-18 18:05:43', 'flickr_url': 'http://farm1.staticflickr.com/87/242575869_7f9d330755_z.jpg', 'id': 215677}]\n"
     ]
    },
    {
     "data": {
      "text/plain": "([{'license': 2,\n   'file_name': '000000215677.jpg',\n   'coco_url': 'http://images.cocodataset.org/train2017/000000215677.jpg',\n   'height': 500,\n   'width': 333,\n   'date_captured': '2013-11-18 18:05:43',\n   'flickr_url': 'http://farm1.staticflickr.com/87/242575869_7f9d330755_z.jpg',\n   'id': 215677}],\n 333,\n 500)"
     },
     "execution_count": 11,
     "metadata": {},
     "output_type": "execute_result"
    }
   ],
   "source": [
    "img_info = coco.loadImgs(imgId)\n",
    "print(img_info)\n",
    "img_width = img_info[0]['width']\n",
    "img_height = img_info[0]['height']\n",
    "img_info, img_width, img_height"
   ],
   "metadata": {
    "collapsed": false,
    "ExecuteTime": {
     "end_time": "2023-11-04T21:20:56.400462631Z",
     "start_time": "2023-11-04T21:20:56.390279318Z"
    }
   },
   "id": "ac5080d7843fb49c"
  },
  {
   "cell_type": "code",
   "execution_count": 12,
   "outputs": [],
   "source": [
    "x,y,width,height = anns[0]['bbox']"
   ],
   "metadata": {
    "collapsed": false,
    "ExecuteTime": {
     "end_time": "2023-11-04T21:21:04.393670081Z",
     "start_time": "2023-11-04T21:21:04.329469761Z"
    }
   },
   "id": "c0d99d2a7fda745c"
  },
  {
   "cell_type": "code",
   "execution_count": 13,
   "outputs": [
    {
     "name": "stdout",
     "output_type": "stream",
     "text": [
      "91.9 156.25 209.04 335.8\n"
     ]
    }
   ],
   "source": [
    "print(x,y,width,height)"
   ],
   "metadata": {
    "collapsed": false,
    "ExecuteTime": {
     "end_time": "2023-11-04T21:21:04.622842854Z",
     "start_time": "2023-11-04T21:21:04.615922470Z"
    }
   },
   "id": "47b0746ea7a94c9f"
  },
  {
   "cell_type": "code",
   "execution_count": 16,
   "outputs": [
    {
     "data": {
      "text/plain": "array([0.276, 0.312, 0.904, 0.984])"
     },
     "execution_count": 16,
     "metadata": {},
     "output_type": "execute_result"
    }
   ],
   "source": [
    "normalized = [x/img_width,y/img_height,(x+width)/img_width,(y+height)/img_height]\n",
    "import numpy as np\n",
    "np.round(normalized,3)"
   ],
   "metadata": {
    "collapsed": false,
    "ExecuteTime": {
     "end_time": "2023-11-04T21:22:15.308356338Z",
     "start_time": "2023-11-04T21:22:15.243680052Z"
    }
   },
   "id": "b7b7ec2d5753a709"
  },
  {
   "cell_type": "code",
   "execution_count": 17,
   "outputs": [],
   "source": [
    "captions = '\\n'.join(annotation['caption'] for annotation in annotations)"
   ],
   "metadata": {
    "collapsed": false,
    "ExecuteTime": {
     "end_time": "2023-11-04T21:22:17.470615023Z",
     "start_time": "2023-11-04T21:22:17.442047201Z"
    }
   },
   "id": "57ebdce1559aeae9"
  },
  {
   "cell_type": "code",
   "execution_count": 18,
   "outputs": [
    {
     "data": {
      "text/plain": "['person: [0.276, 0.312, 0.904, 0.984]',\n 'frisbee: [0.398, 0.699, 0.607, 0.812]',\n 'person: [0.934, 0.65, 0.966, 0.682]']"
     },
     "execution_count": 18,
     "metadata": {},
     "output_type": "execute_result"
    }
   ],
   "source": [
    "normalized_bboxs = []\n",
    "for ann in anns:\n",
    "    bbox_x,bbox_y,bbox_width,bbox_height = ann['bbox']\n",
    "    normalized_bbox = [round(bbox_x/img_width,3),round(bbox_y/img_height,3),round((bbox_x+bbox_width)/img_width,3),round((bbox_y+bbox_height)/img_height,3)]\n",
    "    \n",
    "    category = cat_name_dict[ann['category_id']]\n",
    "    normalized_bboxs.append(f'{category}: {normalized_bbox}')\n",
    "    \n",
    "normalized_bboxs"
   ],
   "metadata": {
    "collapsed": false,
    "ExecuteTime": {
     "end_time": "2023-11-04T21:22:21.540497053Z",
     "start_time": "2023-11-04T21:22:21.507475128Z"
    }
   },
   "id": "6a268b8c87d60428"
  },
  {
   "cell_type": "code",
   "execution_count": 19,
   "outputs": [
    {
     "name": "stdout",
     "output_type": "stream",
     "text": [
      "'A man holding a frisbee while standing on a beach.\\nA man passing a frisbee underneath his leg\\nA person passing a frisbee between their legs.\\nA man throws a Frisbee under his leg.\\na close up of a person playing with a frisbee\\n\\nperson: [0.276, 0.312, 0.904, 0.984]\\nfrisbee: [0.398, 0.699, 0.607, 0.812]\\nperson: [0.934, 0.65, 0.966, 0.682]'\n"
     ]
    }
   ],
   "source": [
    "bboxs = '\\n'.join(normalized_bboxs)\n",
    "query = captions + '\\n\\n' + bboxs\n",
    "print(repr(query))"
   ],
   "metadata": {
    "collapsed": false,
    "ExecuteTime": {
     "end_time": "2023-11-04T21:22:24.410245369Z",
     "start_time": "2023-11-04T21:22:24.358143268Z"
    }
   },
   "id": "33b39224518f0769"
  },
  {
   "cell_type": "code",
   "execution_count": 69,
   "outputs": [
    {
     "data": {
      "text/plain": "118287"
     },
     "execution_count": 69,
     "metadata": {},
     "output_type": "execute_result"
    }
   ],
   "source": [
    "len(coco.getImgIds())"
   ],
   "metadata": {
    "collapsed": false,
    "ExecuteTime": {
     "end_time": "2023-10-20T22:25:20.637371353Z",
     "start_time": "2023-10-20T22:25:20.603692228Z"
    }
   },
   "id": "ee89f2d418578ba5"
  },
  {
   "cell_type": "code",
   "execution_count": 73,
   "outputs": [
    {
     "data": {
      "text/plain": "118287"
     },
     "execution_count": 73,
     "metadata": {},
     "output_type": "execute_result"
    }
   ],
   "source": [
    "len(coco_caps.getImgIds())"
   ],
   "metadata": {
    "collapsed": false,
    "ExecuteTime": {
     "end_time": "2023-10-20T22:32:19.282897423Z",
     "start_time": "2023-10-20T22:32:19.242852902Z"
    }
   },
   "id": "f8c97e705eef32c6"
  },
  {
   "cell_type": "code",
   "execution_count": null,
   "outputs": [],
   "source": [],
   "metadata": {
    "collapsed": false
   },
   "id": "76fc974247f73532"
  }
 ],
 "metadata": {
  "kernelspec": {
   "display_name": "Python 3",
   "language": "python",
   "name": "python3"
  },
  "language_info": {
   "codemirror_mode": {
    "name": "ipython",
    "version": 2
   },
   "file_extension": ".py",
   "mimetype": "text/x-python",
   "name": "python",
   "nbconvert_exporter": "python",
   "pygments_lexer": "ipython2",
   "version": "2.7.6"
  }
 },
 "nbformat": 4,
 "nbformat_minor": 5
}
