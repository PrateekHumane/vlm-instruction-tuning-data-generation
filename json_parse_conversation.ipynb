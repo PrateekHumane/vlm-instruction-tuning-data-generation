{
 "cells": [
  {
   "cell_type": "code",
   "execution_count": 8,
   "id": "initial_id",
   "metadata": {
    "collapsed": true,
    "ExecuteTime": {
     "end_time": "2023-10-25T04:32:08.848733745Z",
     "start_time": "2023-10-25T04:32:08.795514066Z"
    }
   },
   "outputs": [
    {
     "data": {
      "text/plain": "\"Question:\\nWhat is unusual about this photo?\\n===\\nAnswer:\\nIn the photo, the man is wearing a total of ten ties around his neck. This is considered unusual because it is not common for someone to wear multiple ties at once. In a typical setting, a person would wear only one tie. The man's goofy facial expression also adds to the unconventional and humorous nature of the image.\""
     },
     "execution_count": 8,
     "metadata": {},
     "output_type": "execute_result"
    }
   ],
   "source": [
    "conv_simple = open(f\"prompts/conversation/000_conv.txt\", \"r\").read()\n",
    "conv_simple"
   ]
  },
  {
   "cell_type": "code",
   "execution_count": 9,
   "outputs": [
    {
     "data": {
      "text/plain": "['Question:\\nWhat is unusual about this photo?',\n \"Answer:\\nIn the photo, the man is wearing a total of ten ties around his neck. This is considered unusual because it is not common for someone to wear multiple ties at once. In a typical setting, a person would wear only one tie. The man's goofy facial expression also adds to the unconventional and humorous nature of the image.\"]"
     },
     "execution_count": 9,
     "metadata": {},
     "output_type": "execute_result"
    }
   ],
   "source": [
    "import re\n",
    "\n",
    "question_or_answers = re.split(r'\\n===\\n', conv_simple.strip())\n",
    "question_or_answers"
   ],
   "metadata": {
    "collapsed": false,
    "ExecuteTime": {
     "end_time": "2023-10-25T04:32:09.189923866Z",
     "start_time": "2023-10-25T04:32:09.165880231Z"
    }
   },
   "id": "405bc06837de78a4"
  },
  {
   "cell_type": "code",
   "execution_count": 10,
   "outputs": [
    {
     "name": "stdout",
     "output_type": "stream",
     "text": [
      "[{'Question': 'What is unusual about this photo?', 'Answer': \"In the photo, the man is wearing a total of ten ties around his neck. This is considered unusual because it is not common for someone to wear multiple ties at once. In a typical setting, a person would wear only one tie. The man's goofy facial expression also adds to the unconventional and humorous nature of the image.\"}]\n"
     ]
    }
   ],
   "source": [
    "examples = []\n",
    "for q,a in zip(question_or_answers[0::2], question_or_answers[1::2]):\n",
    "    if not q.startswith('Question:\\n') or not a.startswith('Answer:\\n'):\n",
    "        print(\"someting wrong\")\n",
    "    examples.append({'Question':q[10:], 'Answer':a[8:]})\n",
    "\n",
    "print(examples)\n"
   ],
   "metadata": {
    "collapsed": false,
    "ExecuteTime": {
     "end_time": "2023-10-25T04:32:09.536530411Z",
     "start_time": "2023-10-25T04:32:09.524670Z"
    }
   },
   "id": "12c5724ef67373ee"
  },
  {
   "cell_type": "code",
   "execution_count": 10,
   "outputs": [],
   "source": [],
   "metadata": {
    "collapsed": false,
    "ExecuteTime": {
     "end_time": "2023-10-25T04:32:10.032010352Z",
     "start_time": "2023-10-25T04:32:10.023368587Z"
    }
   },
   "id": "3c8c5eaaf6648f09"
  }
 ],
 "metadata": {
  "kernelspec": {
   "display_name": "Python 3",
   "language": "python",
   "name": "python3"
  },
  "language_info": {
   "codemirror_mode": {
    "name": "ipython",
    "version": 2
   },
   "file_extension": ".py",
   "mimetype": "text/x-python",
   "name": "python",
   "nbconvert_exporter": "python",
   "pygments_lexer": "ipython2",
   "version": "2.7.6"
  }
 },
 "nbformat": 4,
 "nbformat_minor": 5
}
